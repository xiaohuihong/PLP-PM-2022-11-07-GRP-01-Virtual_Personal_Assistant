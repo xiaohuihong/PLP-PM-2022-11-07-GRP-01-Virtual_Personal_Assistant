{
 "cells": [
  {
   "cell_type": "code",
   "execution_count": 1,
   "id": "e271e9c4",
   "metadata": {},
   "outputs": [],
   "source": [
    "import pandas as pd\n",
    "df = pd.read_csv(\"today_news.csv\", sep='|', delimiter=None, header=0)"
   ]
  },
  {
   "cell_type": "code",
   "execution_count": 2,
   "id": "0ccb32f4",
   "metadata": {},
   "outputs": [
    {
     "data": {
      "text/html": [
       "<div>\n",
       "<style scoped>\n",
       "    .dataframe tbody tr th:only-of-type {\n",
       "        vertical-align: middle;\n",
       "    }\n",
       "\n",
       "    .dataframe tbody tr th {\n",
       "        vertical-align: top;\n",
       "    }\n",
       "\n",
       "    .dataframe thead th {\n",
       "        text-align: right;\n",
       "    }\n",
       "</style>\n",
       "<table border=\"1\" class=\"dataframe\">\n",
       "  <thead>\n",
       "    <tr style=\"text-align: right;\">\n",
       "      <th></th>\n",
       "      <th>idx</th>\n",
       "      <th>url</th>\n",
       "      <th>title</th>\n",
       "      <th>content</th>\n",
       "      <th>image</th>\n",
       "    </tr>\n",
       "  </thead>\n",
       "  <tbody>\n",
       "    <tr>\n",
       "      <th>0</th>\n",
       "      <td>1</td>\n",
       "      <td>https://www.cnn.com/2022/11/06/motorsport/nasc...</td>\n",
       "      <td>Here’s what to know about NASCAR’s championshi...</td>\n",
       "      <td>With the NASCAR Cup Series making its final st...</td>\n",
       "      <td>https://media.cnn.com/api/v1/images/stellar/pr...</td>\n",
       "    </tr>\n",
       "    <tr>\n",
       "      <th>1</th>\n",
       "      <td>2</td>\n",
       "      <td>https://www.cnn.com/2022/11/06/africa/tanzania...</td>\n",
       "      <td>Three dead after commercial aircraft crashes i...</td>\n",
       "      <td>At least three people died Sunday after a comm...</td>\n",
       "      <td>https://media.cnn.com/api/v1/images/stellar/pr...</td>\n",
       "    </tr>\n",
       "    <tr>\n",
       "      <th>2</th>\n",
       "      <td>3</td>\n",
       "      <td>https://www.cnn.com/2022/11/06/opinions/midter...</td>\n",
       "      <td>Opinion: The VUCA election</td>\n",
       "      <td>In the late 1980s, strategists at the US Army ...</td>\n",
       "      <td>https://media.cnn.com/api/v1/images/stellar/pr...</td>\n",
       "    </tr>\n",
       "    <tr>\n",
       "      <th>3</th>\n",
       "      <td>4</td>\n",
       "      <td>https://www.cnn.com/2022/11/06/politics/biden-...</td>\n",
       "      <td>Biden and Trump converge in Pennsylvania in po...</td>\n",
       "      <td>President Joe Biden and former President Donal...</td>\n",
       "      <td>https://media.cnn.com/api/v1/images/stellar/pr...</td>\n",
       "    </tr>\n",
       "    <tr>\n",
       "      <th>4</th>\n",
       "      <td>5</td>\n",
       "      <td>https://www.cnn.com/2022/11/06/media/snl-donal...</td>\n",
       "      <td>‘SNL’ has Trump plead his case to restore bann...</td>\n",
       "      <td>It’s been a crazy few weeks for Twitter, and “...</td>\n",
       "      <td>https://media.cnn.com/api/v1/images/stellar/pr...</td>\n",
       "    </tr>\n",
       "  </tbody>\n",
       "</table>\n",
       "</div>"
      ],
      "text/plain": [
       "   idx                                                url  \\\n",
       "0    1  https://www.cnn.com/2022/11/06/motorsport/nasc...   \n",
       "1    2  https://www.cnn.com/2022/11/06/africa/tanzania...   \n",
       "2    3  https://www.cnn.com/2022/11/06/opinions/midter...   \n",
       "3    4  https://www.cnn.com/2022/11/06/politics/biden-...   \n",
       "4    5  https://www.cnn.com/2022/11/06/media/snl-donal...   \n",
       "\n",
       "                                               title  \\\n",
       "0  Here’s what to know about NASCAR’s championshi...   \n",
       "1  Three dead after commercial aircraft crashes i...   \n",
       "2                         Opinion: The VUCA election   \n",
       "3  Biden and Trump converge in Pennsylvania in po...   \n",
       "4  ‘SNL’ has Trump plead his case to restore bann...   \n",
       "\n",
       "                                             content  \\\n",
       "0  With the NASCAR Cup Series making its final st...   \n",
       "1  At least three people died Sunday after a comm...   \n",
       "2  In the late 1980s, strategists at the US Army ...   \n",
       "3  President Joe Biden and former President Donal...   \n",
       "4  It’s been a crazy few weeks for Twitter, and “...   \n",
       "\n",
       "                                               image  \n",
       "0  https://media.cnn.com/api/v1/images/stellar/pr...  \n",
       "1  https://media.cnn.com/api/v1/images/stellar/pr...  \n",
       "2  https://media.cnn.com/api/v1/images/stellar/pr...  \n",
       "3  https://media.cnn.com/api/v1/images/stellar/pr...  \n",
       "4  https://media.cnn.com/api/v1/images/stellar/pr...  "
      ]
     },
     "execution_count": 2,
     "metadata": {},
     "output_type": "execute_result"
    }
   ],
   "source": [
    "df.head()"
   ]
  },
  {
   "cell_type": "code",
   "execution_count": null,
   "id": "3d53bf3c",
   "metadata": {},
   "outputs": [],
   "source": []
  }
 ],
 "metadata": {
  "kernelspec": {
   "display_name": "Python 3 (ipykernel)",
   "language": "python",
   "name": "python3"
  },
  "language_info": {
   "codemirror_mode": {
    "name": "ipython",
    "version": 3
   },
   "file_extension": ".py",
   "mimetype": "text/x-python",
   "name": "python",
   "nbconvert_exporter": "python",
   "pygments_lexer": "ipython3",
   "version": "3.7.13"
  }
 },
 "nbformat": 4,
 "nbformat_minor": 5
}
